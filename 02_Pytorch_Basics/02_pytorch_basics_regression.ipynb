{
  "nbformat": 4,
  "nbformat_minor": 0,
  "metadata": {
    "colab": {
      "provenance": [],
      "toc_visible": true,
      "authorship_tag": "ABX9TyOkoF8sx5xGLr9xFIB9ZaYo",
      "include_colab_link": true
    },
    "kernelspec": {
      "name": "python3",
      "display_name": "Python 3"
    },
    "language_info": {
      "name": "python"
    }
  },
  "cells": [
    {
      "cell_type": "markdown",
      "metadata": {
        "id": "view-in-github",
        "colab_type": "text"
      },
      "source": [
        "<a href=\"https://colab.research.google.com/github/ilbaks/LLM_start/blob/main/02_Pytorch_Basics/02_pytorch_basics_regression.ipynb\" target=\"_parent\"><img src=\"https://colab.research.google.com/assets/colab-badge.svg\" alt=\"Open In Colab\"/></a>"
      ]
    },
    {
      "cell_type": "markdown",
      "source": [
        "# 2.Pytorch Basics"
      ],
      "metadata": {
        "id": "7r4_5op0zbKk"
      }
    },
    {
      "cell_type": "markdown",
      "source": [
        "# 0.Imports and Installs"
      ],
      "metadata": {
        "id": "vwjhN3czzyAA"
      }
    },
    {
      "cell_type": "code",
      "source": [
        "import torch\n",
        "import numpy as np"
      ],
      "metadata": {
        "id": "RbcVj73gzvmV"
      },
      "execution_count": 37,
      "outputs": []
    },
    {
      "cell_type": "markdown",
      "source": [
        "## 1. Tensor basics"
      ],
      "metadata": {
        "id": "SvzuaM_Qzi0N"
      }
    },
    {
      "cell_type": "markdown",
      "source": [
        "Everything in pytorch is based on Tensor operations.\n",
        "A tensor can have different dimensions\n",
        "so it can be 1d, 2d, or even 3d and higher\n",
        "\n",
        "scalar, vector, matrix, tensor"
      ],
      "metadata": {
        "id": "ptugcXUY0SGa"
      }
    },
    {
      "cell_type": "markdown",
      "source": [
        "### torch.empty(size): uninitiallized\n",
        "\n"
      ],
      "metadata": {
        "id": "f8g-nH100fMU"
      }
    },
    {
      "cell_type": "code",
      "source": [
        "x = torch.empty(0)\n",
        "print(x)"
      ],
      "metadata": {
        "id": "z5cPvFDk0_XL",
        "outputId": "b41ad829-12b1-4ab6-962a-7d12c79c7b4c",
        "colab": {
          "base_uri": "https://localhost:8080/"
        }
      },
      "execution_count": 6,
      "outputs": [
        {
          "output_type": "stream",
          "name": "stdout",
          "text": [
            "tensor([])\n"
          ]
        }
      ]
    },
    {
      "cell_type": "code",
      "source": [
        "x = torch.empty(1)  # scalar\n",
        "print(x)"
      ],
      "metadata": {
        "id": "SoE5-wYPza3w",
        "outputId": "b07f266c-da8c-4747-d262-21fbde5be2f7",
        "colab": {
          "base_uri": "https://localhost:8080/"
        }
      },
      "execution_count": 4,
      "outputs": [
        {
          "output_type": "stream",
          "name": "stdout",
          "text": [
            "tensor([-2.4082e-38])\n"
          ]
        }
      ]
    },
    {
      "cell_type": "code",
      "execution_count": 5,
      "metadata": {
        "id": "dmWD9cNpyuVW",
        "outputId": "bbee957a-a525-4ab8-ac79-2ab6ee0a28c5",
        "colab": {
          "base_uri": "https://localhost:8080/"
        }
      },
      "outputs": [
        {
          "output_type": "stream",
          "name": "stdout",
          "text": [
            "tensor([3.7847e-04, 3.1896e-41, 4.0509e-04])\n"
          ]
        }
      ],
      "source": [
        "x = torch.empty(3)  # vector\n",
        "print(x)"
      ]
    },
    {
      "cell_type": "code",
      "source": [
        "x = torch.empty(2, 4) # matrix, 2D\n",
        "print(x)"
      ],
      "metadata": {
        "id": "GDvycCqB1M9d",
        "outputId": "bde5d271-c1e6-47bd-a33a-b2076856cbda",
        "colab": {
          "base_uri": "https://localhost:8080/"
        }
      },
      "execution_count": 8,
      "outputs": [
        {
          "output_type": "stream",
          "name": "stdout",
          "text": [
            "tensor([[-4.0334e-30,  7.0065e-45,  1.0790e-43,  0.0000e+00],\n",
            "        [ 0.0000e+00,  0.0000e+00,  0.0000e+00,  0.0000e+00]])\n"
          ]
        }
      ]
    },
    {
      "cell_type": "code",
      "source": [
        "x = torch.empty(2,4,6) # tensor, 3D\n",
        "print(x)"
      ],
      "metadata": {
        "id": "q9Vhptvy1a62",
        "outputId": "2940c257-bcc5-45b6-bc1f-ff60203dea38",
        "colab": {
          "base_uri": "https://localhost:8080/"
        }
      },
      "execution_count": 9,
      "outputs": [
        {
          "output_type": "stream",
          "name": "stdout",
          "text": [
            "tensor([[[2.1715e-18, 2.6704e-06, 1.3679e+22, 2.0450e+20, 1.3484e-05,\n",
            "          8.2356e-10],\n",
            "         [6.7204e-07, 4.2886e-08, 4.2056e-05, 2.6102e-09, 1.4580e-19,\n",
            "          1.1495e+24],\n",
            "         [3.0881e+29, 1.5766e-19, 1.8889e+31, 7.2065e+31, 2.8404e+29,\n",
            "          2.3089e-12],\n",
            "         [1.9421e+31, 2.7491e+20, 6.1949e-04, 1.9421e+31, 2.7491e+20,\n",
            "          2.3078e-12]],\n",
            "\n",
            "        [[7.1760e+22, 7.2250e+28, 1.5766e-19, 4.2192e-08, 2.1666e-04,\n",
            "          3.2768e-09],\n",
            "         [8.5493e+20, 1.0386e+21, 2.1458e-07, 4.2252e-05, 8.3385e-10,\n",
            "          2.3053e-12],\n",
            "         [2.6302e+20, 6.1949e-04, 6.4805e-10, 2.5204e-09, 2.5928e-09,\n",
            "          6.9118e-04],\n",
            "         [6.7743e-10, 6.7122e-07, 2.7149e-06, 1.4580e-19, 4.5450e+30,\n",
            "          1.8524e+28]]])\n"
          ]
        }
      ]
    },
    {
      "cell_type": "markdown",
      "source": [
        "### torch.rand(size) random numbers from [0, 1]"
      ],
      "metadata": {
        "id": "kYP1ZLiW1vaM"
      }
    },
    {
      "cell_type": "code",
      "source": [
        "x = torch.rand(3, 5)\n",
        "print(x)"
      ],
      "metadata": {
        "id": "aIr7yMwg1osf",
        "outputId": "f5fec3ef-853f-47d8-a668-3309ccf8cf07",
        "colab": {
          "base_uri": "https://localhost:8080/"
        }
      },
      "execution_count": 11,
      "outputs": [
        {
          "output_type": "stream",
          "name": "stdout",
          "text": [
            "tensor([[0.5742, 0.8729, 0.6403, 0.2695, 0.4463],\n",
            "        [0.8012, 0.3559, 0.3369, 0.0440, 0.6584],\n",
            "        [0.7371, 0.8095, 0.0812, 0.3585, 0.1946]])\n"
          ]
        }
      ]
    },
    {
      "cell_type": "markdown",
      "source": [
        "- torch.zeros(size)\n",
        "- torch.ones(size)"
      ],
      "metadata": {
        "id": "8d9wroDp2Ha6"
      }
    },
    {
      "cell_type": "code",
      "source": [
        "x = torch.zeros(3, 4, 5)\n",
        "print(x)"
      ],
      "metadata": {
        "id": "D6QxRH3a19mj",
        "outputId": "b9d9ae23-1d0d-40e9-b26d-d44c51c2e7c3",
        "colab": {
          "base_uri": "https://localhost:8080/"
        }
      },
      "execution_count": 12,
      "outputs": [
        {
          "output_type": "stream",
          "name": "stdout",
          "text": [
            "tensor([[[0., 0., 0., 0., 0.],\n",
            "         [0., 0., 0., 0., 0.],\n",
            "         [0., 0., 0., 0., 0.],\n",
            "         [0., 0., 0., 0., 0.]],\n",
            "\n",
            "        [[0., 0., 0., 0., 0.],\n",
            "         [0., 0., 0., 0., 0.],\n",
            "         [0., 0., 0., 0., 0.],\n",
            "         [0., 0., 0., 0., 0.]],\n",
            "\n",
            "        [[0., 0., 0., 0., 0.],\n",
            "         [0., 0., 0., 0., 0.],\n",
            "         [0., 0., 0., 0., 0.],\n",
            "         [0., 0., 0., 0., 0.]]])\n"
          ]
        }
      ]
    },
    {
      "cell_type": "code",
      "source": [
        "x = torch.ones (1, 4)\n",
        "print(x)"
      ],
      "metadata": {
        "id": "ok8ZZclf2fZJ",
        "outputId": "f9ad4c5f-19ab-4a07-b2ff-bc4c2c8318ca",
        "colab": {
          "base_uri": "https://localhost:8080/"
        }
      },
      "execution_count": 13,
      "outputs": [
        {
          "output_type": "stream",
          "name": "stdout",
          "text": [
            "tensor([[1., 1., 1., 1.]])\n"
          ]
        }
      ]
    },
    {
      "cell_type": "markdown",
      "source": [
        "- check size x.size()"
      ],
      "metadata": {
        "id": "-7uM3i0Q2oHy"
      }
    },
    {
      "cell_type": "code",
      "source": [
        "x = torch.zeros(4, 3, 5)\n",
        "x.size()"
      ],
      "metadata": {
        "id": "895lkbnD2k94",
        "outputId": "d4e40cab-8ae8-4d43-9823-6f52aff19a68",
        "colab": {
          "base_uri": "https://localhost:8080/"
        }
      },
      "execution_count": 16,
      "outputs": [
        {
          "output_type": "execute_result",
          "data": {
            "text/plain": [
              "torch.Size([4, 3, 5])"
            ]
          },
          "metadata": {},
          "execution_count": 16
        }
      ]
    },
    {
      "cell_type": "markdown",
      "source": [
        "- check type"
      ],
      "metadata": {
        "id": "d937A3M92_Cq"
      }
    },
    {
      "cell_type": "code",
      "source": [
        "x.dtype"
      ],
      "metadata": {
        "id": "cWEBtgS32wEJ",
        "outputId": "b12db6eb-c45a-470d-a3ef-ba0360414af7",
        "colab": {
          "base_uri": "https://localhost:8080/"
        }
      },
      "execution_count": 17,
      "outputs": [
        {
          "output_type": "execute_result",
          "data": {
            "text/plain": [
              "torch.float32"
            ]
          },
          "metadata": {},
          "execution_count": 17
        }
      ]
    },
    {
      "cell_type": "markdown",
      "source": [
        "### construct from data"
      ],
      "metadata": {
        "id": "SwGXlbkI3LCH"
      }
    },
    {
      "cell_type": "code",
      "source": [
        "x = torch.tensor([5.5, 3])\n",
        "print(x)"
      ],
      "metadata": {
        "id": "Px_uCWjb3Fpj",
        "outputId": "1a663d75-379f-417a-cc5f-60c007d6dbf8",
        "colab": {
          "base_uri": "https://localhost:8080/"
        }
      },
      "execution_count": 18,
      "outputs": [
        {
          "output_type": "stream",
          "name": "stdout",
          "text": [
            "tensor([5.5000, 3.0000])\n"
          ]
        }
      ]
    },
    {
      "cell_type": "markdown",
      "source": [
        "### requires grad argument"
      ],
      "metadata": {
        "id": "_JKan65J3ctT"
      }
    },
    {
      "cell_type": "code",
      "source": [
        "x = torch.tensor([5.5, 3], requires_grad=True)\n",
        "print(x)"
      ],
      "metadata": {
        "id": "YeY60VdS3UfT",
        "outputId": "e36a8bf5-0284-4212-fe97-9c2ee46bb669",
        "colab": {
          "base_uri": "https://localhost:8080/"
        }
      },
      "execution_count": 20,
      "outputs": [
        {
          "output_type": "stream",
          "name": "stdout",
          "text": [
            "tensor([5.5000, 3.0000], requires_grad=True)\n"
          ]
        }
      ]
    },
    {
      "cell_type": "markdown",
      "source": [
        "### operations"
      ],
      "metadata": {
        "id": "O1iZveHi3-nN"
      }
    },
    {
      "cell_type": "code",
      "source": [
        "x = torch.rand(2, 2)\n",
        "y = torch.rand(2, 2)\n",
        "\n",
        "print(x, y)\n",
        "print(\"x + y=\", x + y)\n",
        "print(torch.add(x, y))\n",
        "print(y.add_(x))\n",
        "print(x - y)\n",
        "print(x * y)\n",
        "print(torch.mul(x, y))\n",
        "print(x / y)\n",
        "print( torch.div(x, y))\n",
        "\n"
      ],
      "metadata": {
        "id": "BC5S8H8S31qL",
        "outputId": "2adee054-b614-4c26-d28b-578d4904fe29",
        "colab": {
          "base_uri": "https://localhost:8080/"
        }
      },
      "execution_count": 25,
      "outputs": [
        {
          "output_type": "stream",
          "name": "stdout",
          "text": [
            "tensor([[0.8901, 0.2420],\n",
            "        [0.0595, 0.3032]]) tensor([[0.0094, 0.1762],\n",
            "        [0.5787, 0.7729]])\n",
            "x + y= tensor([[0.8995, 0.4181],\n",
            "        [0.6383, 1.0761]])\n",
            "tensor([[0.8995, 0.4181],\n",
            "        [0.6383, 1.0761]])\n",
            "tensor([[0.8995, 0.4181],\n",
            "        [0.6383, 1.0761]])\n",
            "tensor([[-0.0094, -0.1762],\n",
            "        [-0.5787, -0.7729]])\n",
            "tensor([[0.8007, 0.1012],\n",
            "        [0.0380, 0.3263]])\n",
            "tensor([[0.8007, 0.1012],\n",
            "        [0.0380, 0.3263]])\n",
            "tensor([[0.9896, 0.5787],\n",
            "        [0.0933, 0.2817]])\n",
            "tensor([[0.9896, 0.5787],\n",
            "        [0.0933, 0.2817]])\n"
          ]
        }
      ]
    },
    {
      "cell_type": "code",
      "source": [],
      "metadata": {
        "id": "PcyTzXqE5OH5"
      },
      "execution_count": null,
      "outputs": []
    },
    {
      "cell_type": "markdown",
      "source": [
        "### slicing"
      ],
      "metadata": {
        "id": "jpjFU2hw5e0A"
      }
    },
    {
      "cell_type": "code",
      "source": [
        "x = torch.rand(5, 3)\n",
        "print(x)\n",
        "print(x[:, 0])  # all rows and 1 column\n",
        "print(x[0, : ])  # row 1 and all columns\n",
        "print(x[0, 0])# element at 1, 1\n",
        "print(x[0, 0].item())  # Get the actual value if only 1 element in your tensor"
      ],
      "metadata": {
        "id": "JQMQWmsB4KvO",
        "outputId": "22c743e7-b17e-4420-d770-a2ed2b2f5c3d",
        "colab": {
          "base_uri": "https://localhost:8080/"
        }
      },
      "execution_count": 28,
      "outputs": [
        {
          "output_type": "stream",
          "name": "stdout",
          "text": [
            "tensor([[0.6004, 0.5449, 0.6169],\n",
            "        [0.3612, 0.0161, 0.1193],\n",
            "        [0.1364, 0.2887, 0.3590],\n",
            "        [0.4113, 0.4350, 0.5988],\n",
            "        [0.6148, 0.8987, 0.5094]])\n",
            "tensor([0.6004, 0.3612, 0.1364, 0.4113, 0.6148])\n",
            "tensor([0.6004, 0.5449, 0.6169])\n",
            "tensor(0.6004)\n",
            "0.6003619432449341\n"
          ]
        }
      ]
    },
    {
      "cell_type": "code",
      "source": [],
      "metadata": {
        "id": "6EtksmJf6h-4"
      },
      "execution_count": null,
      "outputs": []
    },
    {
      "cell_type": "markdown",
      "source": [
        "### reshape"
      ],
      "metadata": {
        "id": "SudSjK6y6yvQ"
      }
    },
    {
      "cell_type": "code",
      "source": [
        "x = torch.rand(4, 4)\n",
        "print(x)"
      ],
      "metadata": {
        "id": "DsIqzbVs60cI"
      },
      "execution_count": 29,
      "outputs": []
    },
    {
      "cell_type": "code",
      "source": [
        "y = x.view(16)  # make in 1 dimension with 16\n",
        "z = x.view(-1, 8)  # make second dimension 8\n",
        "print(y, y.size())\n",
        "print(z, z.size())\n"
      ],
      "metadata": {
        "id": "UUhVZna-68I7",
        "outputId": "411324b3-217b-4967-a6eb-14c2637f2f4d",
        "colab": {
          "base_uri": "https://localhost:8080/"
        }
      },
      "execution_count": 32,
      "outputs": [
        {
          "output_type": "stream",
          "name": "stdout",
          "text": [
            "tensor([0.7433, 0.6902, 0.4909, 0.0018, 0.1425, 0.3744, 0.0073, 0.1982, 0.0796,\n",
            "        0.0455, 0.9417, 0.3317, 0.1222, 0.6917, 0.3028, 0.4550]) torch.Size([16])\n",
            "tensor([[0.7433, 0.6902, 0.4909, 0.0018, 0.1425, 0.3744, 0.0073, 0.1982],\n",
            "        [0.0796, 0.0455, 0.9417, 0.3317, 0.1222, 0.6917, 0.3028, 0.4550]]) torch.Size([2, 8])\n"
          ]
        }
      ]
    },
    {
      "cell_type": "code",
      "source": [
        "z.dtype, type(z)"
      ],
      "metadata": {
        "id": "tISF9Yz_8HJu",
        "outputId": "d80c0935-fd84-4708-8bad-7808d9832e6f",
        "colab": {
          "base_uri": "https://localhost:8080/"
        }
      },
      "execution_count": 35,
      "outputs": [
        {
          "output_type": "execute_result",
          "data": {
            "text/plain": [
              "(torch.float32, torch.Tensor)"
            ]
          },
          "metadata": {},
          "execution_count": 35
        }
      ]
    },
    {
      "cell_type": "markdown",
      "source": [
        "### Numpy"
      ],
      "metadata": {
        "id": "ixFOXYWb7-OK"
      }
    },
    {
      "cell_type": "code",
      "source": [
        "# torch to numpy with .numpy()\n",
        "x = torch.ones(5)\n",
        "print(x)\n",
        "\n",
        "y = x.numpy()\n",
        "print(type(y), y)\n",
        "\n",
        "# Carful: If the Tensor is on the CPU (not the GPU),\n",
        "# both objects will share the same memory location, so changing one\n",
        "# will also change the other\n",
        "x.add_(1)\n",
        "print(x)\n",
        "print(y)"
      ],
      "metadata": {
        "id": "r9xS9ezq72oT",
        "outputId": "49229824-fa73-4891-8585-38439e60070e",
        "colab": {
          "base_uri": "https://localhost:8080/"
        }
      },
      "execution_count": 36,
      "outputs": [
        {
          "output_type": "stream",
          "name": "stdout",
          "text": [
            "tensor([1., 1., 1., 1., 1.])\n",
            "<class 'numpy.ndarray'> [1. 1. 1. 1. 1.]\n",
            "tensor([2., 2., 2., 2., 2.])\n",
            "[2. 2. 2. 2. 2.]\n"
          ]
        }
      ]
    },
    {
      "cell_type": "code",
      "source": [
        "# numpy to torch with .from_numpy(x)\n",
        "x = np.ones(5)\n",
        "y = torch.from_numpy(x)\n",
        "print(y)\n",
        "\n",
        "# again be careful when modifying\n",
        "x += 1\n",
        "print(x)\n",
        "print(y)"
      ],
      "metadata": {
        "id": "dA1pHO6r84gL",
        "outputId": "af9787ed-7dcd-4a21-e79a-633b2554fea0",
        "colab": {
          "base_uri": "https://localhost:8080/"
        }
      },
      "execution_count": 39,
      "outputs": [
        {
          "output_type": "stream",
          "name": "stdout",
          "text": [
            "tensor([1., 1., 1., 1., 1.], dtype=torch.float64)\n",
            "[2. 2. 2. 2. 2.]\n",
            "tensor([2., 2., 2., 2., 2.], dtype=torch.float64)\n"
          ]
        }
      ]
    },
    {
      "cell_type": "code",
      "source": [],
      "metadata": {
        "id": "xpDxELHf9Yru"
      },
      "execution_count": null,
      "outputs": []
    },
    {
      "cell_type": "markdown",
      "source": [
        "### tensors on CPU or on GPU"
      ],
      "metadata": {
        "id": "pLrVzyHX9kpO"
      }
    },
    {
      "cell_type": "code",
      "source": [
        "# by default all tensors are created on the CPU,\n",
        "# but you can also move them to the GPU (only if it's available )\n",
        "if torch.cuda.is_available():\n",
        "    device = torch.device(\"cuda\")\n",
        "    y = torch.ones_like(x,device=device)\n",
        "    x = x.to(device)\n",
        "    z = x + y\n",
        "    # z = z.numpy() # not possible because numpy cannot handle GPU tenors\n",
        "    # move to CPU again\n",
        "    z.to(\"cpu\")\n",
        "    z = z.numpy()"
      ],
      "metadata": {
        "id": "Z2hg9jaB9rDC"
      },
      "execution_count": 41,
      "outputs": []
    },
    {
      "cell_type": "code",
      "source": [],
      "metadata": {
        "id": "moarOvqN9qOQ"
      },
      "execution_count": null,
      "outputs": []
    }
  ]
}