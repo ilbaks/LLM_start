{
  "nbformat": 4,
  "nbformat_minor": 0,
  "metadata": {
    "colab": {
      "provenance": [],
      "toc_visible": true,
      "authorship_tag": "ABX9TyMvpw+R/BKTJU9WoH4l2Wo+",
      "include_colab_link": true
    },
    "kernelspec": {
      "name": "python3",
      "display_name": "Python 3"
    },
    "language_info": {
      "name": "python"
    }
  },
  "cells": [
    {
      "cell_type": "markdown",
      "metadata": {
        "id": "view-in-github",
        "colab_type": "text"
      },
      "source": [
        "<a href=\"https://colab.research.google.com/github/ilbaks/LLM_start/blob/main/02_Pytorch_Basics/02_pytorch_basics_regression.ipynb\" target=\"_parent\"><img src=\"https://colab.research.google.com/assets/colab-badge.svg\" alt=\"Open In Colab\"/></a>"
      ]
    },
    {
      "cell_type": "markdown",
      "source": [
        "# 2.Pytorch Basics"
      ],
      "metadata": {
        "id": "7r4_5op0zbKk"
      }
    },
    {
      "cell_type": "markdown",
      "source": [
        "## 0.Imports and Installs"
      ],
      "metadata": {
        "id": "vwjhN3czzyAA"
      }
    },
    {
      "cell_type": "code",
      "source": [
        "import torch\n",
        "import numpy as np"
      ],
      "metadata": {
        "id": "RbcVj73gzvmV"
      },
      "execution_count": null,
      "outputs": []
    },
    {
      "cell_type": "markdown",
      "source": [
        "## 1.Tensor basics"
      ],
      "metadata": {
        "id": "SvzuaM_Qzi0N"
      }
    },
    {
      "cell_type": "markdown",
      "source": [
        "Everything in pytorch is based on Tensor operations.\n",
        "A tensor can have different dimensions\n",
        "so it can be 1d, 2d, or even 3d and higher\n",
        "\n",
        "scalar, vector, matrix, tensor"
      ],
      "metadata": {
        "id": "ptugcXUY0SGa"
      }
    },
    {
      "cell_type": "markdown",
      "source": [
        "### torch.empty(size): uninitiallized\n",
        "\n"
      ],
      "metadata": {
        "id": "f8g-nH100fMU"
      }
    },
    {
      "cell_type": "code",
      "source": [
        "x = torch.empty(0)\n",
        "print(x)"
      ],
      "metadata": {
        "colab": {
          "base_uri": "https://localhost:8080/"
        },
        "id": "z5cPvFDk0_XL",
        "outputId": "b41ad829-12b1-4ab6-962a-7d12c79c7b4c"
      },
      "execution_count": null,
      "outputs": [
        {
          "output_type": "stream",
          "name": "stdout",
          "text": [
            "tensor([])\n"
          ]
        }
      ]
    },
    {
      "cell_type": "code",
      "source": [
        "x = torch.empty(1)  # scalar\n",
        "print(x)"
      ],
      "metadata": {
        "colab": {
          "base_uri": "https://localhost:8080/"
        },
        "id": "SoE5-wYPza3w",
        "outputId": "b07f266c-da8c-4747-d262-21fbde5be2f7"
      },
      "execution_count": null,
      "outputs": [
        {
          "output_type": "stream",
          "name": "stdout",
          "text": [
            "tensor([-2.4082e-38])\n"
          ]
        }
      ]
    },
    {
      "cell_type": "code",
      "execution_count": null,
      "metadata": {
        "id": "dmWD9cNpyuVW",
        "colab": {
          "base_uri": "https://localhost:8080/"
        },
        "outputId": "bbee957a-a525-4ab8-ac79-2ab6ee0a28c5"
      },
      "outputs": [
        {
          "output_type": "stream",
          "name": "stdout",
          "text": [
            "tensor([3.7847e-04, 3.1896e-41, 4.0509e-04])\n"
          ]
        }
      ],
      "source": [
        "x = torch.empty(3)  # vector\n",
        "print(x)"
      ]
    },
    {
      "cell_type": "code",
      "source": [
        "x = torch.empty(2, 4) # matrix, 2D\n",
        "print(x)"
      ],
      "metadata": {
        "colab": {
          "base_uri": "https://localhost:8080/"
        },
        "id": "GDvycCqB1M9d",
        "outputId": "bde5d271-c1e6-47bd-a33a-b2076856cbda"
      },
      "execution_count": null,
      "outputs": [
        {
          "output_type": "stream",
          "name": "stdout",
          "text": [
            "tensor([[-4.0334e-30,  7.0065e-45,  1.0790e-43,  0.0000e+00],\n",
            "        [ 0.0000e+00,  0.0000e+00,  0.0000e+00,  0.0000e+00]])\n"
          ]
        }
      ]
    },
    {
      "cell_type": "code",
      "source": [
        "x = torch.empty(2,4,6) # tensor, 3D\n",
        "print(x)"
      ],
      "metadata": {
        "colab": {
          "base_uri": "https://localhost:8080/"
        },
        "id": "q9Vhptvy1a62",
        "outputId": "2940c257-bcc5-45b6-bc1f-ff60203dea38"
      },
      "execution_count": null,
      "outputs": [
        {
          "output_type": "stream",
          "name": "stdout",
          "text": [
            "tensor([[[2.1715e-18, 2.6704e-06, 1.3679e+22, 2.0450e+20, 1.3484e-05,\n",
            "          8.2356e-10],\n",
            "         [6.7204e-07, 4.2886e-08, 4.2056e-05, 2.6102e-09, 1.4580e-19,\n",
            "          1.1495e+24],\n",
            "         [3.0881e+29, 1.5766e-19, 1.8889e+31, 7.2065e+31, 2.8404e+29,\n",
            "          2.3089e-12],\n",
            "         [1.9421e+31, 2.7491e+20, 6.1949e-04, 1.9421e+31, 2.7491e+20,\n",
            "          2.3078e-12]],\n",
            "\n",
            "        [[7.1760e+22, 7.2250e+28, 1.5766e-19, 4.2192e-08, 2.1666e-04,\n",
            "          3.2768e-09],\n",
            "         [8.5493e+20, 1.0386e+21, 2.1458e-07, 4.2252e-05, 8.3385e-10,\n",
            "          2.3053e-12],\n",
            "         [2.6302e+20, 6.1949e-04, 6.4805e-10, 2.5204e-09, 2.5928e-09,\n",
            "          6.9118e-04],\n",
            "         [6.7743e-10, 6.7122e-07, 2.7149e-06, 1.4580e-19, 4.5450e+30,\n",
            "          1.8524e+28]]])\n"
          ]
        }
      ]
    },
    {
      "cell_type": "markdown",
      "source": [
        "### torch.rand(size) random numbers from [0, 1]"
      ],
      "metadata": {
        "id": "kYP1ZLiW1vaM"
      }
    },
    {
      "cell_type": "code",
      "source": [
        "x = torch.rand(3, 5)\n",
        "print(x)"
      ],
      "metadata": {
        "colab": {
          "base_uri": "https://localhost:8080/"
        },
        "id": "aIr7yMwg1osf",
        "outputId": "f5fec3ef-853f-47d8-a668-3309ccf8cf07"
      },
      "execution_count": null,
      "outputs": [
        {
          "output_type": "stream",
          "name": "stdout",
          "text": [
            "tensor([[0.5742, 0.8729, 0.6403, 0.2695, 0.4463],\n",
            "        [0.8012, 0.3559, 0.3369, 0.0440, 0.6584],\n",
            "        [0.7371, 0.8095, 0.0812, 0.3585, 0.1946]])\n"
          ]
        }
      ]
    },
    {
      "cell_type": "markdown",
      "source": [
        "- torch.zeros(size)\n",
        "- torch.ones(size)"
      ],
      "metadata": {
        "id": "8d9wroDp2Ha6"
      }
    },
    {
      "cell_type": "code",
      "source": [
        "x = torch.zeros(3, 4, 5)\n",
        "print(x)"
      ],
      "metadata": {
        "colab": {
          "base_uri": "https://localhost:8080/"
        },
        "id": "D6QxRH3a19mj",
        "outputId": "b9d9ae23-1d0d-40e9-b26d-d44c51c2e7c3"
      },
      "execution_count": null,
      "outputs": [
        {
          "output_type": "stream",
          "name": "stdout",
          "text": [
            "tensor([[[0., 0., 0., 0., 0.],\n",
            "         [0., 0., 0., 0., 0.],\n",
            "         [0., 0., 0., 0., 0.],\n",
            "         [0., 0., 0., 0., 0.]],\n",
            "\n",
            "        [[0., 0., 0., 0., 0.],\n",
            "         [0., 0., 0., 0., 0.],\n",
            "         [0., 0., 0., 0., 0.],\n",
            "         [0., 0., 0., 0., 0.]],\n",
            "\n",
            "        [[0., 0., 0., 0., 0.],\n",
            "         [0., 0., 0., 0., 0.],\n",
            "         [0., 0., 0., 0., 0.],\n",
            "         [0., 0., 0., 0., 0.]]])\n"
          ]
        }
      ]
    },
    {
      "cell_type": "code",
      "source": [
        "x = torch.ones (1, 4)\n",
        "print(x)"
      ],
      "metadata": {
        "colab": {
          "base_uri": "https://localhost:8080/"
        },
        "id": "ok8ZZclf2fZJ",
        "outputId": "f9ad4c5f-19ab-4a07-b2ff-bc4c2c8318ca"
      },
      "execution_count": null,
      "outputs": [
        {
          "output_type": "stream",
          "name": "stdout",
          "text": [
            "tensor([[1., 1., 1., 1.]])\n"
          ]
        }
      ]
    },
    {
      "cell_type": "markdown",
      "source": [
        "- check size x.size()"
      ],
      "metadata": {
        "id": "-7uM3i0Q2oHy"
      }
    },
    {
      "cell_type": "code",
      "source": [
        "x = torch.zeros(4, 3, 5)\n",
        "x.size()"
      ],
      "metadata": {
        "colab": {
          "base_uri": "https://localhost:8080/"
        },
        "id": "895lkbnD2k94",
        "outputId": "d4e40cab-8ae8-4d43-9823-6f52aff19a68"
      },
      "execution_count": null,
      "outputs": [
        {
          "output_type": "execute_result",
          "data": {
            "text/plain": [
              "torch.Size([4, 3, 5])"
            ]
          },
          "metadata": {},
          "execution_count": 16
        }
      ]
    },
    {
      "cell_type": "markdown",
      "source": [
        "- check type"
      ],
      "metadata": {
        "id": "d937A3M92_Cq"
      }
    },
    {
      "cell_type": "code",
      "source": [
        "x.dtype"
      ],
      "metadata": {
        "colab": {
          "base_uri": "https://localhost:8080/"
        },
        "id": "cWEBtgS32wEJ",
        "outputId": "b12db6eb-c45a-470d-a3ef-ba0360414af7"
      },
      "execution_count": null,
      "outputs": [
        {
          "output_type": "execute_result",
          "data": {
            "text/plain": [
              "torch.float32"
            ]
          },
          "metadata": {},
          "execution_count": 17
        }
      ]
    },
    {
      "cell_type": "markdown",
      "source": [
        "### construct from data"
      ],
      "metadata": {
        "id": "SwGXlbkI3LCH"
      }
    },
    {
      "cell_type": "code",
      "source": [
        "x = torch.tensor([5.5, 3])\n",
        "print(x)"
      ],
      "metadata": {
        "colab": {
          "base_uri": "https://localhost:8080/"
        },
        "id": "Px_uCWjb3Fpj",
        "outputId": "1a663d75-379f-417a-cc5f-60c007d6dbf8"
      },
      "execution_count": null,
      "outputs": [
        {
          "output_type": "stream",
          "name": "stdout",
          "text": [
            "tensor([5.5000, 3.0000])\n"
          ]
        }
      ]
    },
    {
      "cell_type": "markdown",
      "source": [
        "### requires grad argument"
      ],
      "metadata": {
        "id": "_JKan65J3ctT"
      }
    },
    {
      "cell_type": "code",
      "source": [
        "x = torch.tensor([5.5, 3], requires_grad=True)\n",
        "print(x)"
      ],
      "metadata": {
        "colab": {
          "base_uri": "https://localhost:8080/"
        },
        "id": "YeY60VdS3UfT",
        "outputId": "e36a8bf5-0284-4212-fe97-9c2ee46bb669"
      },
      "execution_count": null,
      "outputs": [
        {
          "output_type": "stream",
          "name": "stdout",
          "text": [
            "tensor([5.5000, 3.0000], requires_grad=True)\n"
          ]
        }
      ]
    },
    {
      "cell_type": "markdown",
      "source": [
        "### operations"
      ],
      "metadata": {
        "id": "O1iZveHi3-nN"
      }
    },
    {
      "cell_type": "code",
      "source": [
        "x = torch.rand(2, 2)\n",
        "y = torch.rand(2, 2)\n",
        "\n",
        "print(x, y)\n",
        "print(\"x + y=\", x + y)\n",
        "print(torch.add(x, y))\n",
        "print(y.add_(x))\n",
        "print(x - y)\n",
        "print(x * y)\n",
        "print(torch.mul(x, y))\n",
        "print(x / y)\n",
        "print( torch.div(x, y))\n",
        "\n"
      ],
      "metadata": {
        "colab": {
          "base_uri": "https://localhost:8080/"
        },
        "id": "BC5S8H8S31qL",
        "outputId": "2adee054-b614-4c26-d28b-578d4904fe29"
      },
      "execution_count": null,
      "outputs": [
        {
          "output_type": "stream",
          "name": "stdout",
          "text": [
            "tensor([[0.8901, 0.2420],\n",
            "        [0.0595, 0.3032]]) tensor([[0.0094, 0.1762],\n",
            "        [0.5787, 0.7729]])\n",
            "x + y= tensor([[0.8995, 0.4181],\n",
            "        [0.6383, 1.0761]])\n",
            "tensor([[0.8995, 0.4181],\n",
            "        [0.6383, 1.0761]])\n",
            "tensor([[0.8995, 0.4181],\n",
            "        [0.6383, 1.0761]])\n",
            "tensor([[-0.0094, -0.1762],\n",
            "        [-0.5787, -0.7729]])\n",
            "tensor([[0.8007, 0.1012],\n",
            "        [0.0380, 0.3263]])\n",
            "tensor([[0.8007, 0.1012],\n",
            "        [0.0380, 0.3263]])\n",
            "tensor([[0.9896, 0.5787],\n",
            "        [0.0933, 0.2817]])\n",
            "tensor([[0.9896, 0.5787],\n",
            "        [0.0933, 0.2817]])\n"
          ]
        }
      ]
    },
    {
      "cell_type": "code",
      "source": [],
      "metadata": {
        "id": "PcyTzXqE5OH5"
      },
      "execution_count": null,
      "outputs": []
    },
    {
      "cell_type": "markdown",
      "source": [
        "### slicing"
      ],
      "metadata": {
        "id": "jpjFU2hw5e0A"
      }
    },
    {
      "cell_type": "code",
      "source": [
        "x = torch.rand(5, 3)\n",
        "print(x)\n",
        "print(x[:, 0])  # all rows and 1 column\n",
        "print(x[0, : ])  # row 1 and all columns\n",
        "print(x[0, 0])# element at 1, 1\n",
        "print(x[0, 0].item())  # Get the actual value if only 1 element in your tensor"
      ],
      "metadata": {
        "colab": {
          "base_uri": "https://localhost:8080/"
        },
        "id": "JQMQWmsB4KvO",
        "outputId": "22c743e7-b17e-4420-d770-a2ed2b2f5c3d"
      },
      "execution_count": null,
      "outputs": [
        {
          "output_type": "stream",
          "name": "stdout",
          "text": [
            "tensor([[0.6004, 0.5449, 0.6169],\n",
            "        [0.3612, 0.0161, 0.1193],\n",
            "        [0.1364, 0.2887, 0.3590],\n",
            "        [0.4113, 0.4350, 0.5988],\n",
            "        [0.6148, 0.8987, 0.5094]])\n",
            "tensor([0.6004, 0.3612, 0.1364, 0.4113, 0.6148])\n",
            "tensor([0.6004, 0.5449, 0.6169])\n",
            "tensor(0.6004)\n",
            "0.6003619432449341\n"
          ]
        }
      ]
    },
    {
      "cell_type": "code",
      "source": [],
      "metadata": {
        "id": "6EtksmJf6h-4"
      },
      "execution_count": null,
      "outputs": []
    },
    {
      "cell_type": "markdown",
      "source": [
        "### reshape"
      ],
      "metadata": {
        "id": "SudSjK6y6yvQ"
      }
    },
    {
      "cell_type": "code",
      "source": [
        "x = torch.rand(4, 4)\n",
        "print(x)"
      ],
      "metadata": {
        "id": "DsIqzbVs60cI"
      },
      "execution_count": null,
      "outputs": []
    },
    {
      "cell_type": "code",
      "source": [
        "y = x.view(16)  # make in 1 dimension with 16\n",
        "z = x.view(-1, 8)  # make second dimension 8\n",
        "print(y, y.size())\n",
        "print(z, z.size())\n"
      ],
      "metadata": {
        "colab": {
          "base_uri": "https://localhost:8080/"
        },
        "id": "UUhVZna-68I7",
        "outputId": "411324b3-217b-4967-a6eb-14c2637f2f4d"
      },
      "execution_count": null,
      "outputs": [
        {
          "output_type": "stream",
          "name": "stdout",
          "text": [
            "tensor([0.7433, 0.6902, 0.4909, 0.0018, 0.1425, 0.3744, 0.0073, 0.1982, 0.0796,\n",
            "        0.0455, 0.9417, 0.3317, 0.1222, 0.6917, 0.3028, 0.4550]) torch.Size([16])\n",
            "tensor([[0.7433, 0.6902, 0.4909, 0.0018, 0.1425, 0.3744, 0.0073, 0.1982],\n",
            "        [0.0796, 0.0455, 0.9417, 0.3317, 0.1222, 0.6917, 0.3028, 0.4550]]) torch.Size([2, 8])\n"
          ]
        }
      ]
    },
    {
      "cell_type": "code",
      "source": [
        "z.dtype, type(z)"
      ],
      "metadata": {
        "colab": {
          "base_uri": "https://localhost:8080/"
        },
        "id": "tISF9Yz_8HJu",
        "outputId": "d80c0935-fd84-4708-8bad-7808d9832e6f"
      },
      "execution_count": null,
      "outputs": [
        {
          "output_type": "execute_result",
          "data": {
            "text/plain": [
              "(torch.float32, torch.Tensor)"
            ]
          },
          "metadata": {},
          "execution_count": 35
        }
      ]
    },
    {
      "cell_type": "markdown",
      "source": [
        "### Numpy"
      ],
      "metadata": {
        "id": "ixFOXYWb7-OK"
      }
    },
    {
      "cell_type": "code",
      "source": [
        "# torch to numpy with .numpy()\n",
        "x = torch.ones(5)\n",
        "print(x)\n",
        "\n",
        "y = x.numpy()\n",
        "print(type(y), y)\n",
        "\n",
        "# Carful: If the Tensor is on the CPU (not the GPU),\n",
        "# both objects will share the same memory location, so changing one\n",
        "# will also change the other\n",
        "x.add_(1)\n",
        "print(x)\n",
        "print(y)"
      ],
      "metadata": {
        "colab": {
          "base_uri": "https://localhost:8080/"
        },
        "id": "r9xS9ezq72oT",
        "outputId": "49229824-fa73-4891-8585-38439e60070e"
      },
      "execution_count": null,
      "outputs": [
        {
          "output_type": "stream",
          "name": "stdout",
          "text": [
            "tensor([1., 1., 1., 1., 1.])\n",
            "<class 'numpy.ndarray'> [1. 1. 1. 1. 1.]\n",
            "tensor([2., 2., 2., 2., 2.])\n",
            "[2. 2. 2. 2. 2.]\n"
          ]
        }
      ]
    },
    {
      "cell_type": "code",
      "source": [
        "# numpy to torch with .from_numpy(x)\n",
        "x = np.ones(5)\n",
        "y = torch.from_numpy(x)\n",
        "print(y)\n",
        "\n",
        "# again be careful when modifying\n",
        "x += 1\n",
        "print(x)\n",
        "print(y)"
      ],
      "metadata": {
        "colab": {
          "base_uri": "https://localhost:8080/"
        },
        "id": "dA1pHO6r84gL",
        "outputId": "af9787ed-7dcd-4a21-e79a-633b2554fea0"
      },
      "execution_count": null,
      "outputs": [
        {
          "output_type": "stream",
          "name": "stdout",
          "text": [
            "tensor([1., 1., 1., 1., 1.], dtype=torch.float64)\n",
            "[2. 2. 2. 2. 2.]\n",
            "tensor([2., 2., 2., 2., 2.], dtype=torch.float64)\n"
          ]
        }
      ]
    },
    {
      "cell_type": "code",
      "source": [],
      "metadata": {
        "id": "xpDxELHf9Yru"
      },
      "execution_count": null,
      "outputs": []
    },
    {
      "cell_type": "markdown",
      "source": [
        "### tensors on CPU or on GPU"
      ],
      "metadata": {
        "id": "pLrVzyHX9kpO"
      }
    },
    {
      "cell_type": "code",
      "source": [
        "# by default all tensors are created on the CPU,\n",
        "# but you can also move them to the GPU (only if it's available )\n",
        "if torch.cuda.is_available():\n",
        "    device = torch.device(\"cuda\")\n",
        "    y = torch.ones_like(x,device=device)\n",
        "    x = x.to(device)\n",
        "    z = x + y\n",
        "    # z = z.numpy() # not possible because numpy cannot handle GPU tenors\n",
        "    # move to CPU again\n",
        "    z.to(\"cpu\")\n",
        "    z = z.numpy()"
      ],
      "metadata": {
        "id": "Z2hg9jaB9rDC"
      },
      "execution_count": null,
      "outputs": []
    },
    {
      "cell_type": "code",
      "source": [],
      "metadata": {
        "id": "moarOvqN9qOQ"
      },
      "execution_count": null,
      "outputs": []
    },
    {
      "cell_type": "markdown",
      "source": [
        "## 2.Autograd"
      ],
      "metadata": {
        "id": "PycXRLy2IXEp"
      }
    },
    {
      "cell_type": "markdown",
      "source": [
        "### 2.1. General intutions"
      ],
      "metadata": {
        "id": "kFbiXTdGQKxb"
      }
    },
    {
      "cell_type": "code",
      "source": [
        "import torch"
      ],
      "metadata": {
        "id": "0gJVod6EIaG6"
      },
      "execution_count": 24,
      "outputs": []
    },
    {
      "cell_type": "code",
      "source": [
        "# The autograd package provides automatic differentiation\n",
        "# for all operations on Tensors\n",
        "\n",
        "# requires_grad = True -> tracks all operations on the tensor.\n",
        "x = torch.randn(3, requires_grad=True)\n",
        "print(x)\n",
        "y = x + 2\n",
        "print(y)\n",
        "y.backward()  # RuntimeError: grad can be implicitly created only for scalar outputs"
      ],
      "metadata": {
        "id": "ojn4wag-IpvX",
        "outputId": "c4681c1c-644d-4edf-f99b-47f982c0dec6",
        "colab": {
          "base_uri": "https://localhost:8080/",
          "height": 409
        }
      },
      "execution_count": null,
      "outputs": [
        {
          "output_type": "stream",
          "name": "stdout",
          "text": [
            "tensor([-1.1488,  0.9591,  0.0400], requires_grad=True)\n",
            "tensor([0.8512, 2.9591, 2.0400], grad_fn=<AddBackward0>)\n"
          ]
        },
        {
          "output_type": "error",
          "ename": "RuntimeError",
          "evalue": "ignored",
          "traceback": [
            "\u001b[0;31m---------------------------------------------------------------------------\u001b[0m",
            "\u001b[0;31mRuntimeError\u001b[0m                              Traceback (most recent call last)",
            "\u001b[0;32m<ipython-input-15-e8a5df4a52f5>\u001b[0m in \u001b[0;36m<cell line: 9>\u001b[0;34m()\u001b[0m\n\u001b[1;32m      7\u001b[0m \u001b[0my\u001b[0m \u001b[0;34m=\u001b[0m \u001b[0mx\u001b[0m \u001b[0;34m+\u001b[0m \u001b[0;36m2\u001b[0m\u001b[0;34m\u001b[0m\u001b[0;34m\u001b[0m\u001b[0m\n\u001b[1;32m      8\u001b[0m \u001b[0mprint\u001b[0m\u001b[0;34m(\u001b[0m\u001b[0my\u001b[0m\u001b[0;34m)\u001b[0m\u001b[0;34m\u001b[0m\u001b[0;34m\u001b[0m\u001b[0m\n\u001b[0;32m----> 9\u001b[0;31m \u001b[0my\u001b[0m\u001b[0;34m.\u001b[0m\u001b[0mbackward\u001b[0m\u001b[0;34m(\u001b[0m\u001b[0;34m)\u001b[0m  \u001b[0;31m# RuntimeError: grad can be implicitly created only for scalar outputs\u001b[0m\u001b[0;34m\u001b[0m\u001b[0;34m\u001b[0m\u001b[0m\n\u001b[0m\u001b[1;32m     10\u001b[0m \u001b[0;34m\u001b[0m\u001b[0m\n",
            "\u001b[0;32m/usr/local/lib/python3.10/dist-packages/torch/_tensor.py\u001b[0m in \u001b[0;36mbackward\u001b[0;34m(self, gradient, retain_graph, create_graph, inputs)\u001b[0m\n\u001b[1;32m    490\u001b[0m                 \u001b[0minputs\u001b[0m\u001b[0;34m=\u001b[0m\u001b[0minputs\u001b[0m\u001b[0;34m,\u001b[0m\u001b[0;34m\u001b[0m\u001b[0;34m\u001b[0m\u001b[0m\n\u001b[1;32m    491\u001b[0m             )\n\u001b[0;32m--> 492\u001b[0;31m         torch.autograd.backward(\n\u001b[0m\u001b[1;32m    493\u001b[0m             \u001b[0mself\u001b[0m\u001b[0;34m,\u001b[0m \u001b[0mgradient\u001b[0m\u001b[0;34m,\u001b[0m \u001b[0mretain_graph\u001b[0m\u001b[0;34m,\u001b[0m \u001b[0mcreate_graph\u001b[0m\u001b[0;34m,\u001b[0m \u001b[0minputs\u001b[0m\u001b[0;34m=\u001b[0m\u001b[0minputs\u001b[0m\u001b[0;34m\u001b[0m\u001b[0;34m\u001b[0m\u001b[0m\n\u001b[1;32m    494\u001b[0m         )\n",
            "\u001b[0;32m/usr/local/lib/python3.10/dist-packages/torch/autograd/__init__.py\u001b[0m in \u001b[0;36mbackward\u001b[0;34m(tensors, grad_tensors, retain_graph, create_graph, grad_variables, inputs)\u001b[0m\n\u001b[1;32m    242\u001b[0m \u001b[0;34m\u001b[0m\u001b[0m\n\u001b[1;32m    243\u001b[0m     \u001b[0mgrad_tensors_\u001b[0m \u001b[0;34m=\u001b[0m \u001b[0m_tensor_or_tensors_to_tuple\u001b[0m\u001b[0;34m(\u001b[0m\u001b[0mgrad_tensors\u001b[0m\u001b[0;34m,\u001b[0m \u001b[0mlen\u001b[0m\u001b[0;34m(\u001b[0m\u001b[0mtensors\u001b[0m\u001b[0;34m)\u001b[0m\u001b[0;34m)\u001b[0m\u001b[0;34m\u001b[0m\u001b[0;34m\u001b[0m\u001b[0m\n\u001b[0;32m--> 244\u001b[0;31m     \u001b[0mgrad_tensors_\u001b[0m \u001b[0;34m=\u001b[0m \u001b[0m_make_grads\u001b[0m\u001b[0;34m(\u001b[0m\u001b[0mtensors\u001b[0m\u001b[0;34m,\u001b[0m \u001b[0mgrad_tensors_\u001b[0m\u001b[0;34m,\u001b[0m \u001b[0mis_grads_batched\u001b[0m\u001b[0;34m=\u001b[0m\u001b[0;32mFalse\u001b[0m\u001b[0;34m)\u001b[0m\u001b[0;34m\u001b[0m\u001b[0;34m\u001b[0m\u001b[0m\n\u001b[0m\u001b[1;32m    245\u001b[0m     \u001b[0;32mif\u001b[0m \u001b[0mretain_graph\u001b[0m \u001b[0;32mis\u001b[0m \u001b[0;32mNone\u001b[0m\u001b[0;34m:\u001b[0m\u001b[0;34m\u001b[0m\u001b[0;34m\u001b[0m\u001b[0m\n\u001b[1;32m    246\u001b[0m         \u001b[0mretain_graph\u001b[0m \u001b[0;34m=\u001b[0m \u001b[0mcreate_graph\u001b[0m\u001b[0;34m\u001b[0m\u001b[0;34m\u001b[0m\u001b[0m\n",
            "\u001b[0;32m/usr/local/lib/python3.10/dist-packages/torch/autograd/__init__.py\u001b[0m in \u001b[0;36m_make_grads\u001b[0;34m(outputs, grads, is_grads_batched)\u001b[0m\n\u001b[1;32m    115\u001b[0m             \u001b[0;32mif\u001b[0m \u001b[0mout\u001b[0m\u001b[0;34m.\u001b[0m\u001b[0mrequires_grad\u001b[0m\u001b[0;34m:\u001b[0m\u001b[0;34m\u001b[0m\u001b[0;34m\u001b[0m\u001b[0m\n\u001b[1;32m    116\u001b[0m                 \u001b[0;32mif\u001b[0m \u001b[0mout\u001b[0m\u001b[0;34m.\u001b[0m\u001b[0mnumel\u001b[0m\u001b[0;34m(\u001b[0m\u001b[0;34m)\u001b[0m \u001b[0;34m!=\u001b[0m \u001b[0;36m1\u001b[0m\u001b[0;34m:\u001b[0m\u001b[0;34m\u001b[0m\u001b[0;34m\u001b[0m\u001b[0m\n\u001b[0;32m--> 117\u001b[0;31m                     raise RuntimeError(\n\u001b[0m\u001b[1;32m    118\u001b[0m                         \u001b[0;34m\"grad can be implicitly created only for scalar outputs\"\u001b[0m\u001b[0;34m\u001b[0m\u001b[0;34m\u001b[0m\u001b[0m\n\u001b[1;32m    119\u001b[0m                     )\n",
            "\u001b[0;31mRuntimeError\u001b[0m: grad can be implicitly created only for scalar outputs"
          ]
        }
      ]
    },
    {
      "cell_type": "markdown",
      "source": [
        "- scalar case"
      ],
      "metadata": {
        "id": "IRrdi69FLspl"
      }
    },
    {
      "cell_type": "code",
      "source": [
        "x = torch.randn(3, requires_grad=True)\n",
        "print(x)\n",
        "y = x + 2\n",
        "print(y)  # (x0 + 2, x1 + 2 , x2 + 2)\n",
        "y = y.sum()  # (x0 + 2 + x1 + 2 + x2 + 2)\n",
        "print(y)\n",
        "y.backward()\n",
        "print(x.grad)  # dy/dx0 ,  dy/dx1, dy/dx2"
      ],
      "metadata": {
        "id": "Fq64vbPnLqBl",
        "outputId": "88a138af-9e22-4161-a325-363b7404f915",
        "colab": {
          "base_uri": "https://localhost:8080/"
        }
      },
      "execution_count": null,
      "outputs": [
        {
          "output_type": "stream",
          "name": "stdout",
          "text": [
            "tensor([-0.7094, -1.0397, -1.3205], requires_grad=True)\n",
            "tensor([1.2906, 0.9603, 0.6795], grad_fn=<AddBackward0>)\n",
            "tensor(2.9305, grad_fn=<SumBackward0>)\n",
            "tensor([1., 1., 1.])\n"
          ]
        }
      ]
    },
    {
      "cell_type": "markdown",
      "source": [
        "- non-scalar case"
      ],
      "metadata": {
        "id": "sFYesdJRM_tM"
      }
    },
    {
      "cell_type": "code",
      "source": [
        "x = torch.randn(3, requires_grad=True)\n",
        "print(x)\n",
        "print(x.grad)\n",
        "y = x + 2\n",
        "print(y)\n",
        "grad_output = torch.ones(3)\n",
        "print(grad_output)\n",
        "y.backward(grad_output)\n",
        "x = torch.randn(3, requires_grad=True)\n",
        "y = x + 2\n",
        "print(x.grad)  # Provide the gradient argument\n",
        "v = torch.tensor([0.1, 1.0, 0.0001], dtype=torch.float32)\n",
        "y.backward(v)\n",
        "print(x.grad)\n",
        "\n",
        "# Generally speaking, torch.autograd is an engine for computing vector-Jacobian product\n",
        "# It computes partial derivates while applying the chain rule"
      ],
      "metadata": {
        "id": "-E3A6VveNF6i",
        "outputId": "95fb81d7-0a9c-47c4-ef54-ee53d70958c1",
        "colab": {
          "base_uri": "https://localhost:8080/"
        }
      },
      "execution_count": 31,
      "outputs": [
        {
          "output_type": "stream",
          "name": "stdout",
          "text": [
            "tensor([ 1.0923, -0.2658, -0.0159], requires_grad=True)\n",
            "None\n",
            "tensor([3.0924, 1.7342, 1.9841], grad_fn=<AddBackward0>)\n",
            "tensor([1., 1., 1.])\n",
            "None\n",
            "tensor([1.0000e-01, 1.0000e+00, 1.0000e-04])\n"
          ]
        }
      ]
    },
    {
      "cell_type": "code",
      "source": [
        "x = torch.randn(3, requires_grad=True)\n",
        "y = x + 2\n",
        "print(x.grad)  # Provide the gradient argument\n",
        "y = x + 2\n",
        "print(y)\n",
        "v = torch.tensor([0.1, 1.0, 0.0001], dtype=torch.float32)\n",
        "y.backward(v)  # dy/dx\n",
        "print(x.grad)"
      ],
      "metadata": {
        "colab": {
          "base_uri": "https://localhost:8080/"
        },
        "id": "_eC6sEidRMTu",
        "outputId": "06a5eb3e-de88-4803-8102-f425a5d429df"
      },
      "execution_count": 32,
      "outputs": [
        {
          "output_type": "stream",
          "name": "stdout",
          "text": [
            "None\n",
            "tensor([1.6487, 2.4264, 1.7382], grad_fn=<AddBackward0>)\n",
            "tensor([1.0000e-01, 1.0000e+00, 1.0000e-04])\n"
          ]
        }
      ]
    },
    {
      "cell_type": "markdown",
      "source": [
        "### 2.2.Stop a tensor from tracking history:"
      ],
      "metadata": {
        "id": "Ci8mh3kqRnpA"
      }
    },
    {
      "cell_type": "code",
      "source": [
        "# For example during our training loop when we want to update our weights\n",
        "# then this update operation should not be part of the gradient computation\n",
        "# - x.requires_grad_(False)\n",
        "# - x.detach()\n",
        "# - wrap in 'with torch.no_grad():'\n",
        "\n",
        "# .requires_grad_(...) changes an existing flag in-place.\n",
        "a = torch.randn(2, 2)\n",
        "print(f\"{a.requires_grad=}\")\n",
        "b = ((a * 3) / (a - 1))\n",
        "print(f\"{b.grad_fn=}\")\n",
        "a.requires_grad_(True)\n",
        "print(f\"{a.requires_grad=}\")\n",
        "b = (a * a).sum()\n",
        "print(f\"{b.grad_fn=}\")"
      ],
      "metadata": {
        "colab": {
          "base_uri": "https://localhost:8080/"
        },
        "id": "PQS-aqW6T7YY",
        "outputId": "dd9d827a-6460-47ef-bf30-e152d72aaaa5"
      },
      "execution_count": 40,
      "outputs": [
        {
          "output_type": "stream",
          "name": "stdout",
          "text": [
            "a.requires_grad=False\n",
            "b.grad_fn=None\n",
            "a.requires_grad=True\n",
            "b.grad_fn=<SumBackward0 object at 0x796dd85a70d0>\n"
          ]
        }
      ]
    },
    {
      "cell_type": "code",
      "source": [
        "# .detach(): get a new Tensor with the same content but no gradient computation:\n",
        "a = torch.randn(2, 2, requires_grad=True)\n",
        "print(f\"{a.requires_grad=}\")\n",
        "b = a.detach()\n",
        "print(f\"{b.requires_grad=}\")"
      ],
      "metadata": {
        "colab": {
          "base_uri": "https://localhost:8080/"
        },
        "id": "oe8BBi1VT968",
        "outputId": "1fb1fd51-4fa8-4257-a2cb-87d738a64cbc"
      },
      "execution_count": 41,
      "outputs": [
        {
          "output_type": "stream",
          "name": "stdout",
          "text": [
            "a.requires_grad=True\n",
            "b.requires_grad=False\n"
          ]
        }
      ]
    },
    {
      "cell_type": "code",
      "source": [
        "# wrap in 'with torch.no_grad():'\n",
        "a = torch.randn(2, 2, requires_grad=True)\n",
        "print(f\"{a.requires_grad=}\")\n",
        "with torch.no_grad():\n",
        "    print(f\"{(x ** 2).requires_grad=}\")"
      ],
      "metadata": {
        "colab": {
          "base_uri": "https://localhost:8080/"
        },
        "id": "PLiU4HeFT_3z",
        "outputId": "681f91b0-2268-4762-dd41-a99daedcb939"
      },
      "execution_count": 42,
      "outputs": [
        {
          "output_type": "stream",
          "name": "stdout",
          "text": [
            "a.requires_grad=True\n",
            "(x ** 2).requires_grad=False\n"
          ]
        }
      ]
    },
    {
      "cell_type": "markdown",
      "source": [
        "### 2.3.Zero gradients"
      ],
      "metadata": {
        "id": "7M0uKkeWUCKG"
      }
    },
    {
      "cell_type": "code",
      "source": [
        "# backward() accumulates the gradient for this tensor into .grad attribute.\n",
        "# !!! We need to be careful during optimization !!!\n",
        "# Use .zero_() to empty the gradients before a new optimization step!\n",
        "weights = torch.ones(4, requires_grad=True)\n",
        "print(f\"{weights=}\")\n",
        "\n",
        "for epoch in range(3):\n",
        "    # just a dummy example\n",
        "    model_output = (weights*3).sum()\n",
        "    print(f\"{model_output=}\")\n",
        "    model_output.backward()\n",
        "\n",
        "    print(weights.grad)\n",
        "\n",
        "    # optimize model, i.e. adjust weights...\n",
        "    with torch.no_grad():\n",
        "        weights -= 0.1 * weights.grad\n",
        "\n",
        "    # this is important! It affects the final weights & output\n",
        "    weights.grad.zero_()\n",
        "\n",
        "print(f\"{weights=}\")\n",
        "print(f\"{model_output=}\")"
      ],
      "metadata": {
        "colab": {
          "base_uri": "https://localhost:8080/"
        },
        "id": "0as4DNO8UItG",
        "outputId": "ffbcb0f5-4a43-4a4f-d60b-6be12884d41e"
      },
      "execution_count": 43,
      "outputs": [
        {
          "output_type": "stream",
          "name": "stdout",
          "text": [
            "weights=tensor([1., 1., 1., 1.], requires_grad=True)\n",
            "model_output=tensor(12., grad_fn=<SumBackward0>)\n",
            "tensor([3., 3., 3., 3.])\n",
            "model_output=tensor(8.4000, grad_fn=<SumBackward0>)\n",
            "tensor([3., 3., 3., 3.])\n",
            "model_output=tensor(4.8000, grad_fn=<SumBackward0>)\n",
            "tensor([3., 3., 3., 3.])\n",
            "weights=tensor([0.1000, 0.1000, 0.1000, 0.1000], requires_grad=True)\n",
            "model_output=tensor(4.8000, grad_fn=<SumBackward0>)\n"
          ]
        }
      ]
    },
    {
      "cell_type": "markdown",
      "source": [
        "## 3.Backpropagation"
      ],
      "metadata": {
        "id": "IXg35BlhZZla"
      }
    },
    {
      "cell_type": "code",
      "source": [
        "import torch\n",
        "\n",
        "x = torch.tensor(1.0)\n",
        "y = torch.tensor(2.0)\n",
        "\n",
        "# This is the parameter we want to optimize -> requires_grad=True\n",
        "w = torch.tensor(1.0, requires_grad=True)\n",
        "\n",
        "# forward pass to compute loss\n",
        "y_predicted = w * x\n",
        "loss = (y_predicted - y)**2\n",
        "print(f\"{loss=}\")\n",
        "\n",
        "# backward pass to compute gradient dLoss/dw\n",
        "loss.backward()\n",
        "print(f\"{w.grad=}\")\n",
        "\n",
        "# update weights\n",
        "# next forward and backward pass...\n",
        "\n",
        "# continue optimizing:\n",
        "# update weights, this operation should not be part of the computational graph\n",
        "with torch.no_grad():\n",
        "    w -= 0.01 * w.grad\n",
        "# don't forget to zero the gradients\n",
        "w.grad.zero_()\n",
        "\n",
        "# next forward and backward pass..."
      ],
      "metadata": {
        "colab": {
          "base_uri": "https://localhost:8080/"
        },
        "id": "RC-PcGIBZc8Z",
        "outputId": "5e6be86b-fade-45c8-88ea-3643d6e19182"
      },
      "execution_count": 45,
      "outputs": [
        {
          "output_type": "stream",
          "name": "stdout",
          "text": [
            "loss=tensor(1., grad_fn=<PowBackward0>)\n",
            "w.grad=tensor(-2.)\n"
          ]
        },
        {
          "output_type": "execute_result",
          "data": {
            "text/plain": [
              "tensor(0.)"
            ]
          },
          "metadata": {},
          "execution_count": 45
        }
      ]
    },
    {
      "cell_type": "markdown",
      "source": [
        "## 4.Gradient descent"
      ],
      "metadata": {
        "id": "LoKXoXYAl08L"
      }
    },
    {
      "cell_type": "markdown",
      "source": [
        "### 4.1. Manually"
      ],
      "metadata": {
        "id": "InLauSnnl7x0"
      }
    },
    {
      "cell_type": "code",
      "source": [
        "import numpy as np\n",
        "\n",
        "# Compute every step manually\n",
        "\n",
        "# Linear regression\n",
        "# f = w * x\n",
        "\n",
        "# here : f = 2 * x\n",
        "X = np.array([1, 2, 3, 4], dtype=np.float32)\n",
        "Y = np.array([2, 4, 6, 8], dtype=np.float32)\n",
        "\n",
        "print(f\"{X=}\")\n",
        "print(f\"{Y=}\")\n",
        "\n",
        "w = 0.0\n",
        "\n",
        "# model output\n",
        "def forward(x):\n",
        "    return w * x\n",
        "\n",
        "# loss = MSE\n",
        "def loss(y, y_pred):\n",
        "    return ((y_pred - y)**2).mean()\n",
        "\n",
        "# J = MSE = 1/N * (w*x - y)**2\n",
        "# dJ/dw = 1/N * 2x(w*x - y)\n",
        "def gradient(x, y, y_pred):\n",
        "    return np.mean(2*x*(y_pred - y))\n",
        "\n",
        "print(f'Prediction before training: f(5) = {forward(5):.3f}')\n",
        "\n",
        "# Training\n",
        "learning_rate = 0.01\n",
        "n_iters = 20\n",
        "\n",
        "for epoch in range(n_iters):\n",
        "    # predict = forward pass\n",
        "    y_pred = forward(X)\n",
        "\n",
        "    # loss\n",
        "    l = loss(Y, y_pred)\n",
        "\n",
        "    # calculate gradients\n",
        "    dw = gradient(X, Y, y_pred)\n",
        "\n",
        "    # update weights\n",
        "    w -= learning_rate * dw\n",
        "\n",
        "    if epoch % 2 == 0:\n",
        "        print(f'epoch {epoch+1}: w = {w:.3f}, loss = {l:.8f}')\n",
        "\n",
        "print(f'Prediction after training: f(5) = {forward(5):.3f}')"
      ],
      "metadata": {
        "colab": {
          "base_uri": "https://localhost:8080/"
        },
        "id": "-dOs6qkUl5qt",
        "outputId": "36d518ad-2335-4a03-cef1-25544cc5f2c9"
      },
      "execution_count": 47,
      "outputs": [
        {
          "output_type": "stream",
          "name": "stdout",
          "text": [
            "X=array([1., 2., 3., 4.], dtype=float32)\n",
            "Y=array([2., 4., 6., 8.], dtype=float32)\n",
            "Prediction before training: f(5) = 0.000\n",
            "epoch 1: w = 0.300, loss = 30.00000000\n",
            "epoch 3: w = 0.772, loss = 15.66018677\n",
            "epoch 5: w = 1.113, loss = 8.17471600\n",
            "epoch 7: w = 1.359, loss = 4.26725292\n",
            "epoch 9: w = 1.537, loss = 2.22753215\n",
            "epoch 11: w = 1.665, loss = 1.16278565\n",
            "epoch 13: w = 1.758, loss = 0.60698175\n",
            "epoch 15: w = 1.825, loss = 0.31684822\n",
            "epoch 17: w = 1.874, loss = 0.16539653\n",
            "epoch 19: w = 1.909, loss = 0.08633806\n",
            "Prediction after training: f(5) = 9.612\n"
          ]
        }
      ]
    },
    {
      "cell_type": "markdown",
      "source": [
        "### 4.2.Auto"
      ],
      "metadata": {
        "id": "Acu2DhnXsGEj"
      }
    },
    {
      "cell_type": "code",
      "source": [
        "import torch\n",
        "\n",
        "# Here we replace the manually computed gradient with autograd\n",
        "\n",
        "# Linear regression\n",
        "# f = w * x\n",
        "\n",
        "# here : f = 2 * x\n",
        "X = torch.tensor([1, 2, 3, 4], dtype=torch.float32)\n",
        "Y = torch.tensor([2, 4, 6, 8], dtype=torch.float32)\n",
        "\n",
        "w = torch.tensor(0.0, dtype=torch.float32, requires_grad=True)\n",
        "\n",
        "# model output\n",
        "def forward(x):\n",
        "    return w * x\n",
        "\n",
        "# loss = MSE\n",
        "def loss(y, y_pred):\n",
        "    return ((y_pred - y)**2).mean()\n",
        "\n",
        "print(f'Prediction before training: f(5) = {forward(5).item():.3f}')\n",
        "\n",
        "# Training\n",
        "learning_rate = 0.01\n",
        "n_iters = 100\n",
        "\n",
        "for epoch in range(n_iters):\n",
        "    # predict = forward pass\n",
        "    y_pred = forward(X)\n",
        "\n",
        "    # loss\n",
        "    l = loss(Y, y_pred)\n",
        "\n",
        "    # calculate gradients = backward pass\n",
        "    l.backward()\n",
        "\n",
        "    # update weights\n",
        "    #w.data = w.data - learning_rate * w.grad\n",
        "    with torch.no_grad():\n",
        "        w -= learning_rate * w.grad\n",
        "\n",
        "    # zero the gradients after updating\n",
        "    w.grad.zero_()\n",
        "\n",
        "    if epoch % 10 == 0:\n",
        "        print(f'epoch {epoch+1}: w = {w.item():.3f}, loss = {l.item():.8f}')\n",
        "\n",
        "print(f'Prediction after training: f(5) = {forward(5).item():.3f}')"
      ],
      "metadata": {
        "colab": {
          "base_uri": "https://localhost:8080/"
        },
        "id": "zG3x3IfYsIHQ",
        "outputId": "ce5cc3b2-0a95-4668-d928-0d307c3e00c3"
      },
      "execution_count": 48,
      "outputs": [
        {
          "output_type": "stream",
          "name": "stdout",
          "text": [
            "Prediction before training: f(5) = 0.000\n",
            "epoch 1: w = 0.300, loss = 30.00000000\n",
            "epoch 11: w = 1.665, loss = 1.16278565\n",
            "epoch 21: w = 1.934, loss = 0.04506890\n",
            "epoch 31: w = 1.987, loss = 0.00174685\n",
            "epoch 41: w = 1.997, loss = 0.00006770\n",
            "epoch 51: w = 1.999, loss = 0.00000262\n",
            "epoch 61: w = 2.000, loss = 0.00000010\n",
            "epoch 71: w = 2.000, loss = 0.00000000\n",
            "epoch 81: w = 2.000, loss = 0.00000000\n",
            "epoch 91: w = 2.000, loss = 0.00000000\n",
            "Prediction after training: f(5) = 10.000\n"
          ]
        }
      ]
    },
    {
      "cell_type": "markdown",
      "source": [
        "## 5.Loss and optimizer"
      ],
      "metadata": {
        "id": "o5P9MSDtwD7T"
      }
    },
    {
      "cell_type": "code",
      "source": [
        "# 1) Design model (input, output, forward pass with different layers)\n",
        "# 2) Construct loss and optimizer\n",
        "# 3) Training loop\n",
        "#       - Forward = compute prediction and loss\n",
        "#       - Backward = compute gradients\n",
        "#       - Update weights\n",
        "\n",
        "import torch\n",
        "import torch.nn as nn\n",
        "\n",
        "# Linear regression\n",
        "# f = w * x\n",
        "\n",
        "# here : f = 2 * x\n",
        "\n",
        "# 0) Training samples\n",
        "X = torch.tensor([1, 2, 3, 4], dtype=torch.float32)\n",
        "Y = torch.tensor([2, 4, 6, 8], dtype=torch.float32)\n",
        "\n",
        "# 1) Design Model: Weights to optimize and forward function\n",
        "w = torch.tensor(0.0, dtype=torch.float32, requires_grad=True)\n",
        "\n",
        "def forward(x):\n",
        "    return w * x\n",
        "\n",
        "print(f'Prediction before training: f(5) = {forward(5).item():.3f}')\n",
        "\n",
        "# 2) Define loss and optimizer\n",
        "learning_rate = 0.01\n",
        "n_iters = 100\n",
        "\n",
        "# callable function\n",
        "loss = nn.MSELoss()\n",
        "\n",
        "optimizer = torch.optim.SGD([w], lr=learning_rate)\n",
        "\n",
        "# 3) Training loop\n",
        "for epoch in range(n_iters):\n",
        "    # predict = forward pass\n",
        "    y_predicted = forward(X)\n",
        "\n",
        "    # loss\n",
        "    l = loss(Y, y_predicted)\n",
        "\n",
        "    # calculate gradients = backward pass\n",
        "    l.backward()\n",
        "\n",
        "    # update weights\n",
        "    optimizer.step()\n",
        "\n",
        "    # zero the gradients after updating\n",
        "    optimizer.zero_grad()\n",
        "\n",
        "    if epoch % 10 == 0:\n",
        "        print('epoch ', epoch+1, ': w = ', w, ' loss = ', l)\n",
        "\n",
        "print(f'Prediction after training: f(5) = {forward(5).item():.3f}')"
      ],
      "metadata": {
        "colab": {
          "base_uri": "https://localhost:8080/"
        },
        "id": "Y1gSYyJcwHaY",
        "outputId": "8788e46d-67a9-4833-f898-c523d8fb5323"
      },
      "execution_count": 49,
      "outputs": [
        {
          "output_type": "stream",
          "name": "stdout",
          "text": [
            "Prediction before training: f(5) = 0.000\n",
            "epoch  1 : w =  tensor(0.3000, requires_grad=True)  loss =  tensor(30., grad_fn=<MseLossBackward0>)\n",
            "epoch  11 : w =  tensor(1.6653, requires_grad=True)  loss =  tensor(1.1628, grad_fn=<MseLossBackward0>)\n",
            "epoch  21 : w =  tensor(1.9341, requires_grad=True)  loss =  tensor(0.0451, grad_fn=<MseLossBackward0>)\n",
            "epoch  31 : w =  tensor(1.9870, requires_grad=True)  loss =  tensor(0.0017, grad_fn=<MseLossBackward0>)\n",
            "epoch  41 : w =  tensor(1.9974, requires_grad=True)  loss =  tensor(6.7705e-05, grad_fn=<MseLossBackward0>)\n",
            "epoch  51 : w =  tensor(1.9995, requires_grad=True)  loss =  tensor(2.6244e-06, grad_fn=<MseLossBackward0>)\n",
            "epoch  61 : w =  tensor(1.9999, requires_grad=True)  loss =  tensor(1.0176e-07, grad_fn=<MseLossBackward0>)\n",
            "epoch  71 : w =  tensor(2.0000, requires_grad=True)  loss =  tensor(3.9742e-09, grad_fn=<MseLossBackward0>)\n",
            "epoch  81 : w =  tensor(2.0000, requires_grad=True)  loss =  tensor(1.4670e-10, grad_fn=<MseLossBackward0>)\n",
            "epoch  91 : w =  tensor(2.0000, requires_grad=True)  loss =  tensor(5.0768e-12, grad_fn=<MseLossBackward0>)\n",
            "Prediction after training: f(5) = 10.000\n"
          ]
        }
      ]
    },
    {
      "cell_type": "markdown",
      "source": [
        "## 6.Linear regression"
      ],
      "metadata": {
        "id": "6QjnhoBBvNtB"
      }
    },
    {
      "cell_type": "code",
      "source": [
        "#Import Libraries\n",
        "import torch  # Main PyTorch library for tensors\n",
        "import torch.nn as nn  # Neural network module in PyTorch\n",
        "import numpy as np\n",
        "from sklearn import datasets  # To import datasets for regression\n",
        "import matplotlib.pyplot as plt\n"
      ],
      "metadata": {
        "id": "xEgaQrfVvgkF"
      },
      "execution_count": 3,
      "outputs": []
    },
    {
      "cell_type": "code",
      "source": [
        "# 0) Prepare Data\n",
        "\n",
        "# Generate a regression dataset with 100 samples, 1 feature, added noise, and a random state for reproducibility\n",
        "X_numpy, y_numpy = datasets.make_regression(n_samples=100, n_features=1, noise=20, random_state=4)\n",
        "\n",
        "# Convert the numpy arrays into PyTorch tensors and ensure the data type is float32 (suitable for PyTorch models)\n",
        "X = torch.from_numpy(X_numpy.astype(np.float32))\n",
        "y = torch.from_numpy(y_numpy.astype(np.float32))\n",
        "\n",
        "# Reshape y to make it a column vector\n",
        "y = y.view(y.shape[0], 1)\n",
        "\n",
        "# Determine the number of samples and features from the dataset for later use\n",
        "n_samples, n_features = X.shape\n"
      ],
      "metadata": {
        "id": "pZ0jYN6Vv0PS"
      },
      "execution_count": 5,
      "outputs": []
    },
    {
      "cell_type": "code",
      "source": [
        "# 1) Model\n",
        "# Linear model f = wx + b\n",
        "# Define the input and output sizes for the linear regression model (1 feature in, 1 value out)\n",
        "input_size = n_features\n",
        "output_size = 1\n",
        "\n",
        "# Initialize the linear model from PyTorch's neural network module\n",
        "model = nn.Linear(input_size, output_size)"
      ],
      "metadata": {
        "id": "W9ipt8lgwaLx"
      },
      "execution_count": 6,
      "outputs": []
    },
    {
      "cell_type": "code",
      "source": [
        "# 2) Loss and optimizer\n",
        "# Define the learning rate for the optimization algorithm\n",
        "learning_rate = 0.01\n",
        "\n",
        "# Set the loss function as Mean Squared Error, common for regression tasks\n",
        "criterion = nn.MSELoss()\n",
        "\n",
        "# Define the optimizer to use Stochastic Gradient Descent and pass the model's parameters and learning rate\n",
        "optimizer = torch.optim.SGD(model.parameters(), lr=learning_rate)"
      ],
      "metadata": {
        "id": "RrO4Xtp3wnlZ"
      },
      "execution_count": 7,
      "outputs": []
    },
    {
      "cell_type": "code",
      "source": [
        "# 3) Training loop\n",
        "# Define the number of epochs, or iterations over the entire dataset\n",
        "num_epochs = 100\n",
        "\n",
        "# Start the training loop\n",
        "for epoch in range(num_epochs):\n",
        "    # Forward pass: Compute the predicted y by passing x to the model\n",
        "    y_predicted = model(X)\n",
        "\n",
        "    # Compute the loss between the predicted y and the true y\n",
        "    loss = criterion(y_predicted, y)\n",
        "\n",
        "    # Backward pass: Compute gradient of the loss with respect to model parameters\n",
        "    loss.backward()\n",
        "\n",
        "    # Update the model parameters using the gradients\n",
        "    optimizer.step()\n",
        "\n",
        "    # Zero the gradients after updating\n",
        "    optimizer.zero_grad()\n",
        "\n",
        "    # Print the loss every 10 epochs\n",
        "    if (epoch+1) % 10 == 0:\n",
        "        print(f'epoch: {epoch+1}, loss = {loss.item():.4f}')"
      ],
      "metadata": {
        "colab": {
          "base_uri": "https://localhost:8080/"
        },
        "id": "U6UrvIiQwxu1",
        "outputId": "79e99753-489e-408f-cf90-f272291cf91e"
      },
      "execution_count": 10,
      "outputs": [
        {
          "output_type": "stream",
          "name": "stdout",
          "text": [
            "epoch: 10, loss = 373.2370\n",
            "epoch: 20, loss = 346.9342\n",
            "epoch: 30, loss = 328.9650\n",
            "epoch: 40, loss = 316.6871\n",
            "epoch: 50, loss = 308.2966\n",
            "epoch: 60, loss = 302.5619\n",
            "epoch: 70, loss = 298.6415\n",
            "epoch: 80, loss = 295.9612\n",
            "epoch: 90, loss = 294.1284\n",
            "epoch: 100, loss = 292.8750\n"
          ]
        }
      ]
    },
    {
      "cell_type": "code",
      "source": [
        "# Plot\n",
        "# Detach the predicted y values from the graph and convert them to a numpy array for plotting\n",
        "predicted = model(X).detach().numpy()\n",
        "\n",
        "# Plot the original data points\n",
        "plt.plot(X_numpy, y_numpy, 'ro')\n",
        "\n",
        "# Plot the line of best fit predicted by the model\n",
        "plt.plot(X_numpy, predicted, 'b')\n",
        "\n",
        "# Display the plot\n",
        "plt.show()"
      ],
      "metadata": {
        "colab": {
          "base_uri": "https://localhost:8080/",
          "height": 430
        },
        "id": "sja9jYEAw0Tx",
        "outputId": "12f0bbc0-42fd-4abd-f606-bef4729c1fd1"
      },
      "execution_count": 11,
      "outputs": [
        {
          "output_type": "display_data",
          "data": {
            "text/plain": [
              "<Figure size 640x480 with 1 Axes>"
            ],
            "image/png": "[encoded data removed]"
          },
          "metadata": {}
        }
      ]
    },
    {
      "cell_type": "markdown",
      "source": [
        "## 7.Logistic regression"
      ],
      "metadata": {
        "id": "wTbgqhr6w9Uo"
      }
    },
    {
      "cell_type": "code",
      "source": [
        "import torch\n",
        "import torch.nn as nn\n",
        "import numpy as np\n",
        "from sklearn import datasets\n",
        "from sklearn.preprocessing import StandardScaler\n",
        "from sklearn.model_selection import train_test_split"
      ],
      "metadata": {
        "id": "43W58nwjx2pg"
      },
      "execution_count": 12,
      "outputs": []
    },
    {
      "cell_type": "code",
      "source": [
        "# 0) Prepare data\n",
        "# Load the Breast Cancer dataset from sklearn datasets\n",
        "bc = datasets.load_breast_cancer()\n",
        "X, y = bc.data, bc.target  # Extract features and target labels\n",
        "\n",
        "n_samples, n_features = X.shape  # Determine the number of samples and features\n",
        "\n",
        "# Split the data into 80% training and 20% testing, with a random state for reproducibility\n",
        "X_train, X_test, y_train, y_test = train_test_split(X, y, test_size=0.2, random_state=1234)\n",
        "\n",
        "# Initialize a StandardScaler to normalize the features by removing the mean and scaling to unit variance\n",
        "sc = StandardScaler()\n",
        "X_train = sc.fit_transform(X_train)  # Fit to the training data and transform it\n",
        "X_test = sc.transform(X_test)  # Transform the test data\n",
        "\n",
        "# Convert the numpy arrays to PyTorch tensors and ensure they are of type float32\n",
        "X_train = torch.from_numpy(X_train.astype(np.float32))\n",
        "X_test = torch.from_numpy(X_test.astype(np.float32))\n",
        "y_train = torch.from_numpy(y_train.astype(np.float32))\n",
        "y_test = torch.from_numpy(y_test.astype(np.float32))\n",
        "\n",
        "# Reshape the target tensors to make them two-dimensional (necessary for BCELoss later on)\n",
        "y_train = y_train.view(y_train.shape[0], 1)\n",
        "y_test = y_test.view(y_test.shape[0], 1)\n"
      ],
      "metadata": {
        "id": "dtDmtUrGx4rV"
      },
      "execution_count": 14,
      "outputs": []
    },
    {
      "cell_type": "code",
      "source": [
        "# 1) Model\n",
        "# Define a PyTorch class for the logistic regression model\n",
        "class Model(nn.Module):\n",
        "    def __init__(self, n_input_features):\n",
        "        super(Model, self).__init__()\n",
        "        # Define a linear layer with a single output (for the binary classification)\n",
        "        self.linear = nn.Linear(n_input_features, 1)\n",
        "\n",
        "    def forward(self, x):\n",
        "        # Apply the sigmoid activation function to the output of the linear layer\n",
        "        y_pred = torch.sigmoid(self.linear(x))\n",
        "        return y_pred\n",
        "\n",
        "# Initialize the model using the number of features from the dataset\n",
        "model = Model(n_features)\n"
      ],
      "metadata": {
        "id": "sbxIznzMyU1P"
      },
      "execution_count": 17,
      "outputs": []
    },
    {
      "cell_type": "code",
      "source": [
        "# 2) Loss and optimizer\n",
        "num_epochs = 100  # Define the number of iterations over the whole dataset\n",
        "learning_rate = 0.01  # Define the learning rate for the optimizer\n",
        "\n",
        "# Use Binary Cross Entropy Loss for the binary classification task\n",
        "criterion = nn.BCELoss()\n",
        "# Define the optimizer as Stochastic Gradient Descent, pass the model parameters and the learning rate\n",
        "optimizer = torch.optim.SGD(model.parameters(), lr=learning_rate)\n"
      ],
      "metadata": {
        "id": "j6T49FvEymUO"
      },
      "execution_count": 18,
      "outputs": []
    },
    {
      "cell_type": "code",
      "source": [
        "# 3) Training loop\n",
        "for epoch in range(num_epochs):\n",
        "    # Forward pass: Compute predicted y by passing x to the model\n",
        "    y_pred = model(X_train)\n",
        "    # Compute and print loss using the true labels and the predictions from the model\n",
        "    loss = criterion(y_pred, y_train)\n",
        "\n",
        "    # Backward pass: Compute gradient of the loss with respect to model parameters\n",
        "    loss.backward()\n",
        "    # Update the model parameters\n",
        "    optimizer.step()\n",
        "\n",
        "    # Zero the gradients to prevent them from accumulating\n",
        "    optimizer.zero_grad()\n",
        "\n",
        "    # Print the loss every 10 epochs\n",
        "    if (epoch+1) % 10 == 0:\n",
        "        print(f'epoch: {epoch+1}, loss = {loss.item():.4f}')\n",
        "\n"
      ],
      "metadata": {
        "id": "rgM5EULyyuNK",
        "outputId": "302b9e59-6235-4d7b-be34-b40f58de1908",
        "colab": {
          "base_uri": "https://localhost:8080/"
        }
      },
      "execution_count": 19,
      "outputs": [
        {
          "output_type": "stream",
          "name": "stdout",
          "text": [
            "epoch: 10, loss = 0.5383\n",
            "epoch: 20, loss = 0.4550\n",
            "epoch: 30, loss = 0.4002\n",
            "epoch: 40, loss = 0.3611\n",
            "epoch: 50, loss = 0.3315\n",
            "epoch: 60, loss = 0.3081\n",
            "epoch: 70, loss = 0.2890\n",
            "epoch: 80, loss = 0.2731\n",
            "epoch: 90, loss = 0.2596\n",
            "epoch: 100, loss = 0.2479\n"
          ]
        }
      ]
    },
    {
      "cell_type": "code",
      "source": [
        "with torch.no_grad():  # Temporarily set all the requires_grad flag to false\n",
        "    y_predicted = model(X_test)  # Predict the labels for the test set\n",
        "    y_predicted_cls = y_predicted.round()  # Round the predictions to 0 or 1\n",
        "    # Calculate the accuracy as the number of correct predictions divided by the total number of predictions\n",
        "    acc = y_predicted_cls.eq(y_test).sum() / float(y_test.shape[0])\n",
        "    print(f'accuracy: {acc.item():.4f}')  # Print the accuracy\n"
      ],
      "metadata": {
        "id": "5cCvug7yy2yc",
        "outputId": "447c9824-abc7-45f2-a245-b43c8b5c7b60",
        "colab": {
          "base_uri": "https://localhost:8080/"
        }
      },
      "execution_count": 20,
      "outputs": [
        {
          "output_type": "stream",
          "name": "stdout",
          "text": [
            "accuracy: 0.8947\n"
          ]
        }
      ]
    }
  ]
}